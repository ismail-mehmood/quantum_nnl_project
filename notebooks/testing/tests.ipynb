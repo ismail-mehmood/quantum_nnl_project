{
 "cells": [
  {
   "cell_type": "markdown",
   "id": "16b9ac47",
   "metadata": {},
   "source": [
    "# Insert tests here"
   ]
  },
  {
   "cell_type": "markdown",
   "id": "297c1d43",
   "metadata": {},
   "source": []
  }
 ],
 "metadata": {
  "language_info": {
   "name": "python"
  }
 },
 "nbformat": 4,
 "nbformat_minor": 5
}
