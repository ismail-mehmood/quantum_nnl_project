{
 "cells": [
  {
   "cell_type": "code",
   "execution_count": 1,
   "id": "31d585f9",
   "metadata": {},
   "outputs": [
    {
     "name": "stdout",
     "output_type": "stream",
     "text": [
      "/home/ismail/quantum_python/quantum_nnl_project\n"
     ]
    }
   ],
   "source": [
    "import os\n",
    "os.chdir(\"..\")\n",
    "print(os.getcwd())"
   ]
  },
  {
   "cell_type": "code",
   "execution_count": 2,
   "id": "65902700",
   "metadata": {},
   "outputs": [],
   "source": [
    "from src.unitary_sims.mzi import *"
   ]
  },
  {
   "cell_type": "code",
   "execution_count": 3,
   "id": "4bedddca",
   "metadata": {},
   "outputs": [
    {
     "name": "stdout",
     "output_type": "stream",
     "text": [
      "Output probabilities: [0.14644661 0.85355339]\n"
     ]
    }
   ],
   "source": [
    "# Input: single photon in mode 0\n",
    "input_state = np.array([1, 0])  # |1,0> (photon in upper path)\n",
    "U = mach_zehnder_unitary(np.pi/4)\n",
    "output_state = U @ input_state\n",
    "probs = np.abs(output_state)**2\n",
    "\n",
    "print(\"Output probabilities:\", probs)\n"
   ]
  },
  {
   "cell_type": "code",
   "execution_count": null,
   "id": "f2bbf654",
   "metadata": {},
   "outputs": [],
   "source": []
  }
 ],
 "metadata": {
  "kernelspec": {
   "display_name": ".venv",
   "language": "python",
   "name": "python3"
  },
  "language_info": {
   "codemirror_mode": {
    "name": "ipython",
    "version": 3
   },
   "file_extension": ".py",
   "mimetype": "text/x-python",
   "name": "python",
   "nbconvert_exporter": "python",
   "pygments_lexer": "ipython3",
   "version": "3.12.3"
  }
 },
 "nbformat": 4,
 "nbformat_minor": 5
}
