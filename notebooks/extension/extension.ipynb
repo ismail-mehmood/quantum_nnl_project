{
 "cells": [
  {
   "cell_type": "markdown",
   "id": "3b44eb64",
   "metadata": {},
   "source": [
    " 1. Mach–Zehnder Interferometer (MZI) Simulation\n",
    "\n",
    "    Quantum Circuit Approach (Qiskit):\n",
    "\n",
    "        Encode MZI using qubit gates: Hadamards for beam splitters, Rz(ϕ)Rz​(ϕ) for phase shift.\n",
    "\n",
    "        Benchmark interference fringes by varying phase φ.\n",
    "\n",
    "    Boson Sampling (Unitary) Simulation:\n",
    "\n",
    "        Model MZI as a 2×2 unitary UMZI=BS⋅P(ϕ)⋅BSUMZI​=BS⋅P(ϕ)⋅BS.\n",
    "\n",
    "        Apply directly to mode amplitudes (classical simulation of photonic interference).\n",
    "\n",
    "    Extension:\n",
    "\n",
    "        Build multi-layer interferometer arrays (cascaded MZIs), analogous to Galton boards.\n",
    "\n",
    "        Compare qubit-circuit vs bosonic-mode simulation fidelity.\n",
    "\n",
    " 2. Classical-Quantum Equivalence Benchmarking\n",
    "\n",
    "    Goal: Show that Galton boards, Mach–Zehnder interferometers, and Ramsey interferometry are all formally equivalent interference processes.\n",
    "\n",
    "    Method:\n",
    "\n",
    "        Map Galton scattering (CSWAP layers) to beam splitters.\n",
    "\n",
    "        Demonstrate distribution equivalence: Binomial (Galton) ↔ Interference fringes (MZI) ↔ Ramsey oscillations.\n",
    "\n",
    " 3. Coherence-Stabilized Ramsey Interferometry\n",
    "\n",
    "    Implement coherence stabilization protocol (from the paper):\n",
    "\n",
    "        Apply Trotterized evolution under H(t)=Δσz/2+hy(t)σy/2H(t)=Δσz​/2+hy​(t)σy​/2.\n",
    "\n",
    "        Dynamically update hy(t)hy​(t) from Bloch vector components.\n",
    "\n",
    "    Benchmark:\n",
    "\n",
    "        Compare stabilized vs standard Ramsey sequences for sensitivity and SNR.\n",
    "\n",
    "        Test robustness with noise models (T1/T2 decoherence).\n",
    "\n",
    " 4. Hybrid Stabilization in Galton Boards\n",
    "\n",
    "    Key Idea: Treat the Galton board’s control qubit as analogous to the Ramsey qubit.\n",
    "\n",
    "    Method:\n",
    "\n",
    "        Between scattering layers, insert stabilization pulses (Trotterized RzRz​ and RyRy​ gates).\n",
    "\n",
    "        Dynamically compute hy(t)hy​(t) from the control qubit’s Bloch state (feedback-based correction).\n",
    "\n",
    "    Outcome:\n",
    "\n",
    "        Maintain ideal distributions over deeper boards under noise.\n",
    "\n",
    "        Directly connect sensing control techniques to interferometric transport models."
   ]
  },
  {
   "cell_type": "markdown",
   "id": "dc93eb33",
   "metadata": {},
   "source": [
    "^ what chatgpt made of my plan, not quite there but close enough for now."
   ]
  },
  {
   "cell_type": "markdown",
   "id": "13d456d2",
   "metadata": {},
   "source": []
  }
 ],
 "metadata": {
  "language_info": {
   "name": "python"
  }
 },
 "nbformat": 4,
 "nbformat_minor": 5
}
